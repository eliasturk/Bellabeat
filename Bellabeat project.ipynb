{
 "cells": [
  {
   "cell_type": "markdown",
   "id": "68a593b4",
   "metadata": {},
   "source": [
    "# Google capstone project case 2:\n",
    "## How Can a Wellness Technology\n",
    "## Play it Smart?\n",
    "### ELIAS TURK\n",
    "##### Data analyst\n",
    "\n",
    "##### Date: 27/9/2023\n",
    "\n",
    "##### Reach me at : elias.n.turk@gmail.com or https://eliasturk.github.io/\n",
    "\n"
   ]
  },
  {
   "cell_type": "markdown",
   "id": "a7f154f0",
   "metadata": {
    "_kg_hide-output": false,
    "jupyter": {
     "source_hidden": true
    }
   },
   "source": [
    "![Screenshot 2023-10-14 132951.png](https://drive.google.com/uc?id=1S9COJDi4iGgG3ioC3zf0RiQxROQoMKmy)\n",
    "\n",
    "\n"
   ]
  },
  {
   "cell_type": "markdown",
   "id": "e00f2a57",
   "metadata": {},
   "source": [
    "# I.\tINTRODUCTION: ( Ask phase)\n",
    "This report is divided into sections that correlate to the main steps of the data analysis process to make it easier to explore our study in detail. We'll start by thoroughly comprehending the data sources, as well as the procedures used to prepare and process the data. We will next go into the core of our analysis and reveal the revelations that have resulted from our work. Finally, we will explain our findings and provide broad suggestions designed to direct Bellabeat's marketing plan in a new direction.\n",
    "\n",
    "The Bellabeat Data Analysis Report is more than just a report; it is a physical representation of our dedication to using data to foster growth, innovation, and empowerment. Come along with us on this analytical adventure as we enlighten the future.\n",
    "\n",
    "\n",
    "\n",
    "#### •\tBUISNESS TASK: \n",
    "I have been given a crucial task in my capacity as a junior data analyst at Bellabeat: to meticulously analyze the smart device data associated with Bellabeat's broad variety of product offerings. This job requires a thorough analysis of consumer behavior about our smart wellness products, which include the Bellabeat app, the Leaf fitness tracker, the Time fitness watch, the Spring smart water bottle, and the premium Bellabeat membership program. Each product depicts the user's interests, trends, and behavior in a distinctive way. My goal is to uncover all the valuable insights that are concealed in this data, information that could completely alter Bellabeat's marketing approach.\n",
    "\n"
   ]
  },
  {
   "cell_type": "markdown",
   "id": "659e03b0",
   "metadata": {},
   "source": [
    "# II. Data collection ( Prepare phase)\n",
    "\n",
    "#### ● Where is your data stored? \n",
    "The data used in this analysis is sourced from Fitbit Fitness Tracker Data, which is available under the CC0: Public Domain license By Mobius(Kaggle user). The data files are stored in a specific dataset folder, and for this analysis, they have been made available on Kaggle.\n",
    "#### ● How is the data organized? Is it in long or wide format?\n",
    "The data is provided in both long and wide formats. For our analysis, we have chosen to work with the long format. The long format is preferred when dealing with time series data as it allows for easier manipulation and analysis of minute-level observations.\n",
    "#### ● Are there issues with bias or credibility in this data? Does your data ROCCC? \n",
    "The dataset primarily consists of data from Fitbit users who do not use Bella Beat smart devices. As a result, the findings and insights drawn from this dataset should be interpreted within the context of Fitbit users specifically. It is important to acknowledge that the dataset's demographic scope is limited to Fitbit users, and any conclusions should be considered relevant to this user group. While we have taken steps to ensure data integrity, it's essential to be aware of potential biases within this specific user population when assessing the credibility and generalizability of our analysis.\n",
    "#### ● How are you addressing licensing, privacy, security, and accessibility? \n",
    "The dataset used in this analysis is publicly available and released under the CC0: Public Domain license, which means it can be used for various purposes, including research and analysis. We have also complied with the terms and conditions of data usage outlined by Kaggle and Mobius to ensure ethical and responsible data handling.\n",
    "#### ● How did you verify the data’s integrity?\n",
    "We conducted data profiling to identify missing values, outliers, and inconsistencies. Additionally, we cross-verified the data with domain knowledge and compared it with expected patterns. \n",
    "#### ● How does it help you answer your question?\n",
    "This dataset provides valuable insights into the physical activity, heart rate, and sleep monitoring patterns of Fitbit users. By analyzing this data, we aim to answer specific research questions related to health and activity patterns during the specified time frame. The dataset allows us to explore trends and correlations that can contribute to a better understanding of fitness behaviors and health outcomes. We then could translate them in the buisness world to aid bellabeat's marketing strategy!\n",
    "#### ● Are there any problems with the data?\n",
    "The data is relatively small when we talk about the number of users who tracked other features such as sleep,heartrate and weight. The duration of daily activity data is for 31 days which is fine. The dataset actually came abit preprocessed so we had to deal with minimal preprocessing!"
   ]
  },
  {
   "cell_type": "markdown",
   "id": "07a767ee",
   "metadata": {},
   "source": [
    "# III. Data Preprocessing ( Process phase)\n",
    "\n",
    "#### ● What tools are you choosing and why?\n",
    "For joining tables and cleaning data, i used : \n",
    "1. Excel's power query editor to join hourly data to hourly activity. \n",
    "2. Data analysis & data cleaning as well as creating tables for further visualization and analysis.\n",
    "3. PowerBi to visualize the tables and SQL queries.\n",
    "#### ● Have you ensured your data’s integrity?\n",
    "I have taken several steps to ensure data integrity while working with the public dataset. First, I ensured that the dataset comes from a reputable source, which is a critical factor in maintaining data integrity. Additionally, I have thoroughly reviewed the dataset's documentation and metadata to understand how the data was collected and processed.\n",
    "\n",
    "During my analysis, I implemented rigorous data cleaning and validation procedures to identify and address any anomalies, such as missing values, outliers, or inconsistencies. This process helped ensure that the dataset's integrity was maintained throughout my work.\n",
    "\n",
    "I also kept a close eye on the dataset's version and checked for any updates or corrections provided by the data provider to ensure that I was working with the most accurate and up-to-date information.\n",
    "\n",
    "In summary, I can confidently say that I have taken all necessary precautions to maintain data integrity and have diligently checked for anomalies while working with the dataset.\n",
    "#### ● What steps have you taken to ensure that your data is clean?\n",
    "1. Check for duplicate entries in all datasets.\n",
    "2. Check for NULL or missing values.\n",
    "3. Transform the data and data types to work with them.\n"
   ]
  },
  {
   "cell_type": "markdown",
   "id": "8559d838",
   "metadata": {},
   "source": [
    "### Data cleaning:\n",
    "This is one small part of the data cleaning, I tried to log the most important steps but many other cleaning procedures were executed at different stages. On-the-fly data cleaning & transformation has been done as well."
   ]
  },
  {
   "cell_type": "code",
   "execution_count": null,
   "id": "9d633801",
   "metadata": {
    "jupyter": {
     "source_hidden": true
    }
   },
   "outputs": [],
   "source": [
    "# /*-- Modifiying data types for easier manipulation.\n",
    "# --1) Total distance from string to numeric\n",
    "ALTER TABLE daily_activity\n",
    "ALTER COLUMN TotalDistance float;\n",
    "# --2) LoggedActivitiesDistance from string to numeric\n",
    "ALTER TABLE daily_activity\n",
    "ALTER COLUMN LoggedActivitiesDistance float;\n",
    "# --3) VeryActiveDistance from string to numeric\n",
    "ALTER TABLE daily_activity\n",
    "ALTER COLUMN VeryActiveDistance float;\n",
    "# --4) LoggedActivitiesDistance from string to numeric\n",
    "ALTER TABLE daily_activity\n",
    "ALTER COLUMN ModeratelyActiveDistance float;\n",
    "# --5) LoggedActivitiesDistance from string to numeric\n",
    "ALTER TABLE daily_activity\n",
    "ALTER COLUMN LightActiveDistance float;\n",
    "# --6) LoggedActivitiesDistance from string to numeric\n",
    "ALTER TABLE daily_activity\n",
    "ALTER COLUMN SedentaryActiveDistance float;\n",
    "# --7) TotalSleepRecords in sleepDay from string to numeric\n",
    "ALTER TABLE sleepDay\n",
    "ALTER COLUMN TotalSleepRecords int;\n",
    "# --8) Change ActivityHour to datetime2\n",
    "ALTER TABLE Bellabeat.dbo.hourly_activity\n",
    "ALTER COLUMN ActivityHour datetime2;\n",
    "# --10) Renaming field SleepDay in sleepDay table.\n",
    "EXEC sp_RENAME 'sleepDay.SleepDay', 'days_tracked', 'COLUMN';\n",
    "# --11) Renaming field SleepDay in sleepDay table.\n",
    "EXEC sp_RENAME 'minuteSleep.value', 'quality', 'COLUMN';\n",
    "\n",
    "# --Removing duplicates from sleepday\n",
    "SELECT [Id], [days_tracked], [TotalSleepRecords], [TotalMinutesAsleep], [TotalTimeInBed]\n",
    "FROM [Bellabeat].[dbo].[sleepDay]\n",
    "GROUP BY [Id], [days_tracked], [TotalSleepRecords], [TotalMinutesAsleep], [TotalTimeInBed]\n",
    "HAVING COUNT(*) > 1;\n",
    "\n",
    "WITH Duplicates AS (\n",
    "    SELECT\n",
    "        Id,\n",
    "        days_tracked,\n",
    "        TotalSleepRecords,\n",
    "        TotalMinutesAsleep,\n",
    "        TotalTimeInBed,\n",
    "        ROW_NUMBER() OVER (PARTITION BY Id, days_tracked, TotalSleepRecords, TotalMinutesAsleep, TotalTimeInBed ORDER BY (SELECT 0)) AS RowNum\n",
    "    FROM\n",
    "        [Bellabeat].[dbo].[sleepDay]\n",
    ")\n",
    "DELETE FROM Duplicates\n",
    "WHERE RowNum > 1;\n",
    "\n",
    "# -- Removing duplicates in minutesleep\n",
    "SELECT [Id], [date], [quality], [logId]\n",
    "FROM [Bellabeat].[dbo].[minuteSleep]\n",
    "GROUP BY [Id], [date], [quality], [logId]\n",
    "HAVING COUNT(*) > 1;\n",
    "\n",
    "\n",
    "WITH Duplicates AS (\n",
    "    SELECT\n",
    "        [Id],\n",
    "        [date],\n",
    "        [quality],\n",
    "        [logId],\n",
    "        ROW_NUMBER() OVER (PARTITION BY [Id], [date], [quality], [logId] ORDER BY (SELECT 0)) AS RowNum\n",
    "    FROM\n",
    "        [Bellabeat].[dbo].[minuteSleep]\n",
    ")\n",
    "DELETE FROM Duplicates\n",
    "WHERE RowNum > 1;\n",
    "\n"
   ]
  },
  {
   "cell_type": "markdown",
   "id": "cc703a17",
   "metadata": {},
   "source": [
    "### Data transformation: \n",
    "This is where i joined tables together and segmented the users that tracked different features by aggregating each into separate tables."
   ]
  },
  {
   "cell_type": "code",
   "execution_count": null,
   "id": "6d8a474c",
   "metadata": {
    "jupyter": {
     "source_hidden": true
    }
   },
   "outputs": [],
   "source": [
    "\n",
    "\n",
    "SELECT\n",
    "\tda.Id,\n",
    "    da.ActivityDate AS date,\n",
    "    da.TotalSteps AS Total_Steps,\n",
    "\tROUND(da.TotalDistance, 2) AS Total_Distance,\n",
    "\tROUND(da.LoggedActivitiesDistance, 2) AS Logged_Activities_Distance,\n",
    "\tROUND(da.VeryActiveDistance, 2) AS Very_Active_Distance,\n",
    "\tROUND(da.ModeratelyActiveDistance, 2) AS Moderately_Active_Distance,\n",
    "\tROUND(da.LightActiveDistance, 2) AS Light_Active_Distance,\n",
    "\tROUND(da.SedentaryActiveDistance, 2) As Sedentary_Active_Distance,\n",
    "\tROUND(da.VeryActiveMinutes, 2) AS Very_Active_Minutes,\n",
    "\tROUND(da.FairlyActiveMinutes, 2) AS Fairly_Active_Minutes,\n",
    "\tROUND(da.LightlyActiveMinutes, 2) AS Light_Active_Minutes,\n",
    "\tda.SedentaryMinutes,\n",
    "\tda.Calories,\n",
    "    ha.daily_avg_intensity , -- Leave Avg_Intensity as is\n",
    "    ha.daily_total_intensity , -- Leave Total_Intensity as is\n",
    "    ha.daily_MET\n",
    "--INTO daily_activity_updated\n",
    "FROM\n",
    "    Bellabeat.dbo.daily_activity AS da\n",
    "INNER JOIN\n",
    "    DailyAggregated AS ha\n",
    "ON\n",
    "    da.Id = ha.Id\n",
    "    AND da.ActivityDate = ha.date\n",
    "ORDER BY\n",
    "    da.Id,\n",
    "    da.ActivityDate;\n",
    "\n",
    "\n",
    "/* NOW WE CAN QUERY MORE INFORMATION ABOUT USERS AND THE PREVIOUS QUERY WILL BE USED*/\n",
    "\n",
    "\n",
    "/* daily_activity_updated contains MET and physical data for 33 users.\n",
    "Now we need to join this data with the data of the users that enabled other features */\n",
    "\n",
    "\n",
    "\n",
    "-- data of 14 users who tracked heart\n",
    "-- Lets try  with people who enabled heart rate\n",
    "-- Average heart rate per day for each user\n",
    "SELECT\n",
    "    A.ID,\n",
    "    CAST(A.ActivityHour AS DATE) AS date,\n",
    "    AVG(B.Value) AS daily_avg_hr\n",
    "--INTO daily_heartrate\n",
    "FROM\n",
    "    Bellabeat.dbo.hourly_activity AS A\n",
    "INNER JOIN\n",
    "    Bellabeat.dbo.heartrate_seconds AS B\n",
    "ON\n",
    "    A.ID = B.ID\n",
    "    AND CAST(A.ActivityHour AS DATE) = CAST(B.Time AS DATE)\n",
    "GROUP BY\n",
    "    A.ID,\n",
    "    CAST(A.ActivityHour AS DATE)\n",
    "ORDER BY\n",
    "    A.ID,\n",
    "    CAST(A.ActivityHour AS DATE);\n",
    "\n",
    "-- Now we join both tables together\n",
    "USE Bellabeat;\n",
    "SELECT dau.Id,\n",
    "\t   dau.date,\n",
    "\t   hr.daily_avg_hr \n",
    "--INTO daily_activity_hr_data\n",
    "FROM Bellabeat.dbo.daily_heartrate AS hr\n",
    "INNER JOIN Bellabeat.dbo.daily_activity_updated AS dau\n",
    "ON dau.Id = hr.ID\n",
    "AND dau.date = hr.date\n",
    "ORDER BY Id,date;\n",
    "\n",
    "-- JOIN SleepDay aggregates with daily_activity_updated\n",
    "SELECT\n",
    "    dau.id,\n",
    "\tdau.date,\n",
    "    CAST(ROUND((sa.TotalMinutesAsleep / 60.0), 2) AS FLOAT) AS Hours_Slept,\n",
    "    CAST(ROUND((sa.TotalTimeInBed / 60.0), 2) AS FLOAT) AS Timein_Bed\n",
    "--INTO daily_activity_sleep_data\n",
    "FROM\n",
    "    Bellabeat.dbo.daily_activity_updated AS dau\n",
    "INNER JOIN Bellabeat.dbo.sleepDay AS sa\n",
    "ON dau.Id = sa.id\n",
    "AND dau.date = sa.days_tracked \n",
    "ORDER BY Id,date;\n",
    "\n",
    "USE Bellabeat;\n",
    "-- Users who enabled sleep and heart\n",
    "SELECT \n",
    "    hr.*,\n",
    "    sl.Hours_Slept,\n",
    "    sl.Timein_Bed\n",
    "    \n",
    "--INTO daily_activity_sleep_hr_data\n",
    "FROM \n",
    "    Bellabeat.dbo.daily_activity_hr_data hr\n",
    "INNER JOIN \n",
    "    Bellabeat.dbo.daily_activity_sleep_data sl\n",
    "ON \n",
    "    hr.Id = sl.Id\n",
    "    AND hr.date = sl.date;\n"
   ]
  },
  {
   "cell_type": "markdown",
   "id": "609c111c",
   "metadata": {
    "jupyter": {
     "source_hidden": true
    }
   },
   "source": [
    "\n",
    "#### ● How can you verify that your data is clean and ready to analyze?\n",
    " I implemented data validation checks to ensure the accuracy and consistency of the data. This included checking for missing values, duplicate records, and data format errors. I also joined tables together using SQL and transformed the data to load it to PowerBI and analyze it.\n",
    "Here is my tables diagram in powerbi:\n",
    "![diagram](https://drive.google.com/uc?id=1POazCNc-SZ7OYXthwubkUoFtAzhFZXDS)\n",
    "\n",
    "fact tables : \n",
    "1. daily_activity_updated \n",
    "2. daily_activity_sleep_data\n",
    "3. daily_activity_sleep_hr_data\n",
    "\n",
    "dim tables :\n",
    "\n",
    "1. unique_users: Created using DAX in PowerBI . It takes distinct values from ID \n",
    "UniqueUsers = VALUES(daily_activity_updated[ID])\n",
    "2. unique_dates: Also using DAX to take distinct dates.\n",
    "unique_dates = SUMMARIZE(daily_activity_updated, daily_activity_updated[Date])\n",
    "3. user_category : created using SQL up above\n",
    "\n",
    "### Relationships\n",
    "\n",
    "1. Many to one relationships from fact tables to unique_ids.(1 direction)\n",
    "2. Many to one relationships from fact tables to unique_dates.(1 direction)\n",
    "3. one to one relationship between user_category and unique_id.\n",
    "\n",
    "#### ● Have you documented your cleaning process so you can review and share those results?\n",
    "Yes\n",
    "### Note: The number of users(population) is relatively small.\n",
    "I discovered that :\n",
    "1. 33 Users track their physical activity.\n",
    "2. 24 of them also track sleep. \n",
    "3. 14 of them also track heartrate.(Not included)\n",
    "4. 12 Users track sleep and heartrate.\n",
    "5. 3 Users are tracking everything including weight.(Not included in analysis due to small sample size)"
   ]
  },
  {
   "cell_type": "markdown",
   "id": "32fbeba8",
   "metadata": {},
   "source": [
    "#### Classifying users into categories based on average steps per \n",
    "● per the following article https://www.10000steps.org.au/articles/counting-steps/"
   ]
  },
  {
   "cell_type": "code",
   "execution_count": null,
   "id": "362f1bc4",
   "metadata": {
    "jupyter": {
     "source_hidden": true
    }
   },
   "outputs": [],
   "source": [
    "SELECT\n",
    "    [Id],\n",
    "    AVG([Total_Steps]) AS mean_daily_steps,\n",
    "    AVG([Calories]) AS mean_daily_calories,\n",
    "    CASE\n",
    "        WHEN AVG([Total_Steps]) < 5000 THEN 'sedentary'\n",
    "        WHEN AVG([Total_Steps]) >= 5000 AND AVG([Total_Steps]) < 7500 THEN 'lightly active'\n",
    "        WHEN AVG([Total_Steps]) >= 7500 AND AVG([Total_Steps]) < 10000 THEN 'fairly active'\n",
    "        WHEN AVG([Total_Steps]) >= 10000 THEN 'very active'\n",
    "    END AS user_category\n",
    "-- INTO user_category\n",
    "FROM [Bellabeat].[dbo].[daily_activity_updated]\n",
    "GROUP BY [Id"
   ]
  },
  {
   "cell_type": "markdown",
   "id": "743e3a5f",
   "metadata": {},
   "source": [
    "# IV. Data Analysis (Analyze phase)\n",
    "\n",
    "#### ● How should you organize your data to perform analysis on it?\n",
    "I created a folder and put all the datasets i used in this analysis in it. I then imported these datasets and preprocessed them and kept them in my database in MS SQL Server called Bellabeat as seen above.\n",
    "#### ● Has your data been properly formatted?\n",
    "My data has been properly formatted and preprocessed in Ms SQL Server.\n"
   ]
  },
  {
   "cell_type": "markdown",
   "id": "7ecb1e41",
   "metadata": {},
   "source": [
    "\n",
    "### Hypothesis:\n",
    "\n",
    "Total intensity gets higher as users enable more features.\n",
    "\n"
   ]
  },
  {
   "cell_type": "markdown",
   "id": "fae225d6",
   "metadata": {
    "jupyter": {
     "source_hidden": true
    }
   },
   "source": [
    "##### Users tracking physical activity(all 33 users) : daily_activity_updated:\n",
    "\n",
    "1. Id: User ID or identifier associated with the data record.\n",
    "2. Date: The date for which the data is recorded.\n",
    "3. Total_Steps: Total number of steps taken on the specified date.\n",
    "4. Total_Distance: Total distance covered (e.g., in miles or kilometers) on the specified date.\n",
    "5. Logged_Activities_Distance: Distance covered during logged activities on the specified date.\n",
    "6. Very_Active_Distance: Distance covered during very active activities on the specified date.\n",
    "7. Moderately_Active_Distance: Distance covered during moderately active activities on the specified date.\n",
    "8. Light_Active_Distance: Distance covered during light active activities on the specified date.\n",
    "9. Sedentary_Active_Distance: Distance covered during sedentary (inactive) activities on the specified date.\n",
    "10. Very_Active_Minutes: Total minutes spent in very active activities on the specified date.\n",
    "11. Fairly_Active_Minutes: Total minutes spent in fairly active activities on the specified date.\n",
    "12. Light_Active_Minutes: Total minutes spent in light active activities on the specified date.\n",
    "13. SedentaryMinutes: Total minutes spent in sedentary (inactive) activities on the specified date.\n",
    "14. Calories: Total calories burned on the specified date.\n",
    "15. daily_avg_intensity: Daily average intensity level, possibly related to activity or exercise.\n",
    "16. daily_total_intensity: Daily total intensity level, possibly related to activity or exercise.\n",
    "17. daily_MET: MET (Metabolic Equivalent of Task) value associated with daily activity.\n",
    "\n"
   ]
  },
  {
   "cell_type": "markdown",
   "id": "d563259b",
   "metadata": {
    "jupyter": {
     "source_hidden": true
    }
   },
   "source": [
    "### Physical intensity analysis: \n",
    "#### Segmentation by Activity Level analysis:(user_category)\n",
    "![download](https://drive.google.com/uc?id=1qP0YGbR2q0mg0sJ3j8lJICTh2Uv6vHLP)\n",
    "\n",
    "1. 8 out of 33 users (24%) of users are sedentary.\n",
    "2. 9 out of 33 users (27%) of users are lightly active.\n",
    "3. 9 out of 33 users (27%) of users are fairly active.\n",
    "4. 7 out of 33 users (21%) of users are very active.\n",
    "\n",
    "\n",
    "\n",
    "\n",
    "##### Steps & Distance "
   ]
  },
  {
   "cell_type": "markdown",
   "id": "5034fb75",
   "metadata": {
    "jupyter": {
     "source_hidden": true
    }
   },
   "source": [
    "![download(2)](https://drive.google.com/uc?id=1LdxKV20A5Yz4QYMcGUN-CedKFgED_K2F)\n"
   ]
  },
  {
   "cell_type": "markdown",
   "id": "21539178",
   "metadata": {
    "jupyter": {
     "source_hidden": true
    }
   },
   "source": [
    "![download(3).png](https://drive.google.com/uc?id=16VnzFsbUiLdyU9Eba0kBHCWkqAcjUpxq)\n"
   ]
  },
  {
   "cell_type": "markdown",
   "id": "b63d15de",
   "metadata": {},
   "source": [
    "● We find a strong positive correlation between the steps and the distances that each user category takes.\n",
    "\n",
    "● Highly active users tend to have the most total distances and steps averages.\n",
    "\n",
    "\n",
    "\n",
    "\n",
    "##### MET and total intensity"
   ]
  },
  {
   "cell_type": "markdown",
   "id": "2736b57b",
   "metadata": {
    "jupyter": {
     "source_hidden": true
    }
   },
   "source": [
    "![download(4).png](https://drive.google.com/uc?id=1Ewz3JkEchqxZQOFF1vUettaRYeGk8IqA)\n",
    "\n",
    "![download5.png](https://drive.google.com/uc?id=1EDQTXksB2VyQ0D-GpEKdtq9ChrmUcZAH)\n",
    "\n",
    "\n",
    "● We find a strong positive correlation between MET and intensity for the users categories.\n",
    "\n",
    "● Highly active users tend to have the highest MET and intensity averages.\n",
    "\n",
    "\n",
    "#### Intensity and Calories"
   ]
  },
  {
   "cell_type": "markdown",
   "id": "caa7f5a6",
   "metadata": {
    "jupyter": {
     "source_hidden": true
    }
   },
   "source": [
    "![download(6).png](https://drive.google.com/uc?id=1_yITKsNE6NCcf5IaifTQfx3_8Xpn1-EU)\n"
   ]
  },
  {
   "cell_type": "markdown",
   "id": "e6615eb3",
   "metadata": {},
   "source": [
    "● We find a strong positive correlation between intensity and calories burned.\n",
    "\n",
    "● Average of calories burned by user category is also the highest for very active users."
   ]
  },
  {
   "cell_type": "markdown",
   "id": "3be0024f",
   "metadata": {
    "jupyter": {
     "source_hidden": true
    }
   },
   "source": [
    "# Share phase -1\n",
    "### Recommendations :\n",
    "\n",
    "● Segmentation Focus: Target marketing efforts towards the very active and fairly active user categories, as they make up the majority (48%) and are more likely to engage.\n",
    "\n",
    "● Promote Activity Tracking: Emphasize the importance of tracking steps and distances, as there's a strong correlation. Encourage users to set and achieve distance-based goals.\n",
    "\n",
    "● Highlight MET and Intensity: Promote MET and intensity tracking, especially for highly active users, to emphasize the health benefits of their activity levels.\n",
    "\n",
    "● Calorie Burn Awareness: Educate users about the relationship between intensity and calories burned, and encourage them to stay active for better calorie management.\n",
    "\n",
    "● Engage Sedentary Users: Develop targeted campaigns to engage sedentary users and motivate them to increase their activity levels gradually.\n",
    "\n",
    "● Personalized Content: Use user data to deliver personalized content and recommendations based on their activity level and goals.\n",
    "\n",
    "● Incentivize Very Active Users: Reward very active users to maintain their high activity levels and serve as brand ambassadors or influencers.\n",
    "\n",
    "● Community Building: Create a community or social platform where users can share their achievements, encouraging friendly competition and motivation across all user categories.\n"
   ]
  },
  {
   "cell_type": "markdown",
   "id": "17da14b7",
   "metadata": {},
   "source": [
    "### Trends over time analysis:\n",
    "\n",
    "Checking possible patterns and trends."
   ]
  },
  {
   "cell_type": "markdown",
   "id": "5190f594",
   "metadata": {
    "jupyter": {
     "source_hidden": true
    }
   },
   "source": [
    "![download(7).png](https://drive.google.com/uc?id=1dzn6EgiD3QCpW8OCNsDRh-GWv9XKLS30)"
   ]
  },
  {
   "cell_type": "markdown",
   "id": "414558db",
   "metadata": {},
   "source": [
    "● In the first 3 weeks , saturday  had the highest average intensity. \n",
    "\n",
    "● We notice a big drop in average intensity on the last day the data was recorded ( Thursday may 12).\n",
    "\n",
    "To investigate this further lets see the average steps by date."
   ]
  },
  {
   "cell_type": "markdown",
   "id": "d3d63c92",
   "metadata": {
    "jupyter": {
     "source_hidden": true
    }
   },
   "source": [
    "![download(8)](https://drive.google.com/uc?id=16Y5cWU9SFJSkHjZGXbqHB1gtjZobIvAS)\n"
   ]
  },
  {
   "cell_type": "markdown",
   "id": "ace01d46",
   "metadata": {},
   "source": [
    "● The high intensity for the first 3 saturdays are justified by the amount of the average steps taken.\n",
    "\n",
    "● We notice that Thursday may 12 indeed has also low average steps taken resulting in lower average intensity levels.\n",
    "Let's check why!"
   ]
  },
  {
   "cell_type": "markdown",
   "id": "7c0c2888",
   "metadata": {},
   "source": [
    "In order to understand this better, i first tried to look what happened on this date on the internet but nothing came out. And since we do not have any demographic information of the users,common sensee led me to investigate the data further!"
   ]
  },
  {
   "cell_type": "markdown",
   "id": "8d5d90e4",
   "metadata": {
    "jupyter": {
     "source_hidden": true
    }
   },
   "source": [
    "![download(9)](https://drive.google.com/uc?id=1BIRDOFbUnsxuMTKeJbDZofLG_5X1OI0J)\n",
    "\n"
   ]
  },
  {
   "cell_type": "markdown",
   "id": "9beca029",
   "metadata": {},
   "source": [
    "● We notice that on the thursday, users who kept tracking their data dropped down to 19 in total.\n",
    "\n",
    "● We also notice that the user retention kept decreasing ( more users stopped tracking by time).\n",
    "\n",
    "● Fairly active users were the most stable and only 2 of them stopped tracking their data,while lightly active users went from 9 users to 3 (highest drop).\n",
    "\n",
    "● Very active users and sedentary users also witnessed big drops in the user retentions but of same levels.\n",
    "\n"
   ]
  },
  {
   "cell_type": "markdown",
   "id": "29610077",
   "metadata": {},
   "source": [
    "#### Physical intensity features by date:"
   ]
  },
  {
   "attachments": {},
   "cell_type": "markdown",
   "id": "63698bda",
   "metadata": {
    "jupyter": {
     "source_hidden": true
    }
   },
   "source": [
    "![image-2.png](https://drive.google.com/uc?id=1-t0PsZAk0nEYq0w0gXT6oJx7gg9WonNL)"
   ]
  },
  {
   "cell_type": "markdown",
   "id": "4264ee66",
   "metadata": {},
   "source": [
    "● The daily averages of the different activity tracking features in a decreasing trend as time goes on."
   ]
  },
  {
   "attachments": {},
   "cell_type": "markdown",
   "id": "2c7eebde",
   "metadata": {
    "jupyter": {
     "source_hidden": true
    }
   },
   "source": [
    "![image-2.png](https://drive.google.com/uc?id=13l5XNoenmr4vm2Nfuv_-p3a1t1XqtTJM)\n"
   ]
  },
  {
   "cell_type": "markdown",
   "id": "870632f5",
   "metadata": {},
   "source": [
    "● Here  we realize that the most activity accounted for in our data goes for fairly_active users category followed by lightly active categories and that's simply because the majority of the users fall into these categories. \n",
    "\n",
    "● sedentary users account for the least  total intensities in both months.\n",
    "\n",
    "● The total intensities for all categories including sedentary users was more in April than May."
   ]
  },
  {
   "attachments": {},
   "cell_type": "markdown",
   "id": "a1d9cac5",
   "metadata": {
    "jupyter": {
     "source_hidden": true
    }
   },
   "source": [
    "![image-2.png](https://drive.google.com/uc?id=1ByU7vNLJ2v84H5xkdIsUVcn5acMfQ2pE)\n"
   ]
  },
  {
   "cell_type": "markdown",
   "id": "6decf690",
   "metadata": {},
   "source": [
    "● The reason for the decreasing averages over time and the huge different in total intensities between the 2 months is also because more people recorded their activity in April than in May across all categories."
   ]
  },
  {
   "attachments": {},
   "cell_type": "markdown",
   "id": "bf0e53a9",
   "metadata": {
    "jupyter": {
     "source_hidden": true
    }
   },
   "source": [
    "![image.png](https://drive.google.com/uc?id=1h1bDMEBtWeNIzqsQj6PRE6rINqjfsYEy)\n",
    "\n"
   ]
  },
  {
   "cell_type": "markdown",
   "id": "89e6cd79",
   "metadata": {},
   "source": [
    "● We notice minimal activity between 6 and 11 am, then users tend to be more active around noon till 3 PM. Users are most active between 5 and 7 pm.\n",
    "● Saturday has the highest average of total steps followed by tuesday for our users."
   ]
  },
  {
   "cell_type": "markdown",
   "id": "ed1d02fb",
   "metadata": {
    "jupyter": {
     "source_hidden": true
    }
   },
   "source": [
    "# Share phase - 2\n",
    "### Recommendations :\n",
    "\n",
    "● Thursday Recovery Strategy: Create a \"Thursday Recovery\" campaign to address the significant drop in average intensity and user retention on Thursday, May 12. Offer incentives or content to motivate users to stay active on Thursdays.\n",
    "\n",
    "● User Retention Strategies: Develop targeted strategies to improve user retention. This includes personalized notifications, rewards, or content recommendations to keep users engaged and motivated. Analyze user drop-off points and implement strategies to address them.\n",
    "\n",
    "● Encourage More Data Tracking in May: Launch a campaign to motivate users to continue tracking their data in May, addressing the observed decline in data recording between April and May. Offer incentives or challenges to keep users engaged.\n",
    "\n",
    "● Seasonal Campaign: Run a seasonal campaign emphasizing the benefits of staying active in May compared to April. Use data to illustrate the advantages of maintaining fitness levels throughout the year.\n",
    "\n",
    "● In-App Features: Develop in-app features or notifications that motivate users to set goals and monitor their progress. Gamify the experience to make it more engaging and encourage continued use.\n",
    "\n",
    "● Feedback and Survey: Collect feedback from users who stopped tracking their data and implement changes based on their input. Understand why users are dropping off and address their concerns to improve retention.\n",
    "\n",
    "● Promote Midday and Evening Engagement:\n",
    "\n",
    "Capitalize on the observation that users tend to be more active around noon until 3 PM and are most active between 5 and 7 PM. Create marketing campaigns, notifications, or challenges specifically designed to encourage and motivate user activity during these time slots. Offer rewards or incentives for reaching activity goals during these periods.\n",
    "Target Inactive Mornings:\n",
    "\n",
    "Given that there is minimal activity between 6 and 11 AM, consider running campaigns that target users during this time frame to encourage them to start their day with physical activity. Provide content or challenges to motivate users to be more active in the morning.\n",
    "\n",
    "● Weekday Activity Focus:\n",
    "\n",
    "Leverage the insight that Saturday and Tuesday have the highest average total steps. Focus your marketing efforts on weekdays, particularly on Saturdays and Tuesdays. Offer special promotions, challenges, or content that encourage users to be more active during these days.\n",
    "\n",
    "● Weekend Campaigns:\n",
    "\n",
    "On Saturdays, when user activity is at its peak, launch special weekend campaigns to boost user engagement. Provide exclusive weekend challenges or rewards to keep users active and engaged during the weekend.\n",
    "\n",
    "These new recommendations focus on addressing specific issues related to the drop in user engagement and retention, encouraging continued data tracking, and making the app experience more engaging.\n",
    "\n",
    "\n",
    "\n",
    "\n",
    "\n",
    "\n"
   ]
  },
  {
   "cell_type": "markdown",
   "id": "3ccb5f2a",
   "metadata": {},
   "source": [
    "### Sleep analysis:"
   ]
  },
  {
   "attachments": {},
   "cell_type": "markdown",
   "id": "45dd3c99",
   "metadata": {
    "jupyter": {
     "source_hidden": true
    }
   },
   "source": [
    "![image-3.png](https://drive.google.com/uc?id=15zDn64UmcvFcyjK0bIQT6WNKasMOP2rh)\n"
   ]
  },
  {
   "cell_type": "markdown",
   "id": "6f2c8472",
   "metadata": {},
   "source": [
    "● 24/33 users have enabled sleep. - fairly active:8 - sedentary:7 - very active:5 - lightly active:4.\n"
   ]
  },
  {
   "attachments": {},
   "cell_type": "markdown",
   "id": "86263621",
   "metadata": {
    "jupyter": {
     "source_hidden": true
    }
   },
   "source": [
    "![image-3.png](https://drive.google.com/uc?id=1syYkeT1IdozqpfhC46-VcaM-j_WKOG3R)\n"
   ]
  },
  {
   "cell_type": "markdown",
   "id": "bc00a013",
   "metadata": {},
   "source": [
    "\n",
    "● Despite having the lowest amount of users, lightly active users have the highest daily sleep averages, and very active has the lowest sleep average."
   ]
  },
  {
   "attachments": {},
   "cell_type": "markdown",
   "id": "aadc102c",
   "metadata": {
    "jupyter": {
     "source_hidden": true
    }
   },
   "source": [
    "\n",
    "![image.png](https://drive.google.com/uc?id=1RIQtClhN6MtOtGLlwLttOMGccqTTs6dL)\n"
   ]
  },
  {
   "cell_type": "markdown",
   "id": "445b77d9",
   "metadata": {},
   "source": [
    "● The high average on 24th of april is expained by the lack of sedentary users data points on this date and where both very active and fairly active had a spike."
   ]
  },
  {
   "attachments": {},
   "cell_type": "markdown",
   "id": "dade5d38",
   "metadata": {
    "jupyter": {
     "source_hidden": true
    }
   },
   "source": [
    "![image.png](https://drive.google.com/uc?id=1sHXoroXPKdjG3u-J5w5WoUK5jS02hF7Z)"
   ]
  },
  {
   "cell_type": "markdown",
   "id": "46c4e51e",
   "metadata": {},
   "source": [
    "● fairly_active users are the most users who tracked their sleep the longest and at stable rate (user retention).\n"
   ]
  },
  {
   "attachments": {},
   "cell_type": "markdown",
   "id": "14f77532",
   "metadata": {
    "jupyter": {
     "source_hidden": true
    }
   },
   "source": [
    "![image.png](https://drive.google.com/uc?id=1mm40t9D9McU-W_xQvvdCElTMg45_lv85)\n"
   ]
  },
  {
   "cell_type": "markdown",
   "id": "cc2a4abd",
   "metadata": {},
   "source": [
    "● The average time to sleep for very active users is the highest with 1h:20 while fairly active uers are the lowest with average of 48 minutes.\n"
   ]
  },
  {
   "attachments": {},
   "cell_type": "markdown",
   "id": "6d6e64ac",
   "metadata": {
    "jupyter": {
     "source_hidden": true
    }
   },
   "source": [
    "![image-2.png](https://drive.google.com/uc?id=1WEK40z9ve8FoB973j9TnFjMLXt03XkFK)\n"
   ]
  },
  {
   "cell_type": "markdown",
   "id": "8d07d314",
   "metadata": {},
   "source": [
    "●  We notice that avg of hours slept increases on days right after there's a spike in physical intensity"
   ]
  },
  {
   "attachments": {},
   "cell_type": "markdown",
   "id": "d0d07a2c",
   "metadata": {
    "jupyter": {
     "source_hidden": true
    }
   },
   "source": [
    "![image-2.png](https://drive.google.com/uc?id=12DqJWSeMIHvtb1l1OLtaLc3HukEsamqN)\n"
   ]
  },
  {
   "cell_type": "markdown",
   "id": "471c60c7",
   "metadata": {
    "jupyter": {
     "source_hidden": true
    }
   },
   "source": [
    "● There is a moderate negative correlation of -0.48 . This suggests that there is a moderate opposite relationship between hours slept and total steps. As the total steps on a given day increases average slept hours decreases.\n",
    "\n",
    "● After analysing those results and looking at very active users data. I conclude that those who get highest average of sleep take less to fall asleep.I also conclude highly active users in this sample are not healthy and despite seeing a spike in sleep after a high intensity average day , users who slept less had higher intensity averages."
   ]
  },
  {
   "cell_type": "markdown",
   "id": "ebaccc98",
   "metadata": {
    "jupyter": {
     "source_hidden": true
    }
   },
   "source": [
    "# Share phase - 3\n",
    "### Recomendations : \n",
    "\n",
    "● Targeted Sleep Analysis Campaigns:\n",
    "\n",
    "Create separate campaigns for different user activity level groups.\n",
    "Tailor messages and incentives to encourage better sleep tracking and quality based on each group's needs.\n",
    "\n",
    "● Promote Healthy Sleep Habits:\n",
    "\n",
    "Develop content and features to educate users about healthy sleep habits.\n",
    "Emphasize factors like consistent sleep patterns, adequate sleep duration, and an ideal sleep environment.\n",
    "\n",
    "● Enhance Data Collection:\n",
    "\n",
    "Simplify the process of logging sleep data to improve data collection.\n",
    "Implement reminders and notifications to prompt users to update their sleep information regularly.\n",
    "\n",
    "● Sleep-Activity Balance:\n",
    "\n",
    "Educate users on balancing physical activity and sleep.\n",
    "Provide guidance on optimizing physical activity without compromising sleep quality.\n",
    "\n",
    "● User Insights for Health Improvement:\n",
    "\n",
    "Provide personalized health insights based on users' sleep and activity data.\n",
    "Offer recommendations to improve overall health, considering activity levels, sleep duration, and efficiency.\n",
    "\n",
    "● Goal-Oriented Sleep Tracking:\n",
    "\n",
    "Allow users to set sleep-related goals and monitor their progress.\n",
    "Gamify the experience by rewarding users for achieving their sleep goals.\n",
    "\n",
    "● Correlation Awareness:\n",
    "\n",
    "Educate users about the observed negative correlation between steps and sleep duration.\n",
    "Help users understand how to balance physical activity and rest for better health.\n",
    "\n",
    "● User-Specific Insights:\n",
    "\n",
    "Offer personalized insights based on user data, such as tips for falling asleep quickly or improving sleep quality.\n",
    "\n",
    "● Health Assessment for Highly Active Users:\n",
    "\n",
    "Conduct health assessments for highly active users to address potential health concerns.\n",
    "Provide resources and guidance on maintaining a healthy balance between fitness and well-being.\n",
    "\n",
    "● User Engagement Challenges:\n",
    "\n",
    "Create sleep tracking and healthy habits challenges.\n",
    "Encourage users to participate in challenges to improve sleep routines and overall health.\n",
    "These recommendations are designed to cater to different user groups, considering their unique sleep patterns and activity levels, and encourage healthier sleep habits and overall well-being.\n",
    "\n",
    "\n",
    "\n",
    "\n",
    "\n"
   ]
  },
  {
   "cell_type": "markdown",
   "id": "434384e5",
   "metadata": {},
   "source": [
    "#### Sleep and heart analysis:"
   ]
  },
  {
   "attachments": {},
   "cell_type": "markdown",
   "id": "68c95912",
   "metadata": {
    "jupyter": {
     "source_hidden": true
    }
   },
   "source": [
    "![image.png](https://drive.google.com/uc?id=1IWU2kssfKGXveaWFVWcN_W2kgDmGX68T)\n"
   ]
  },
  {
   "cell_type": "markdown",
   "id": "2615f3bd",
   "metadata": {
    "jupyter": {
     "source_hidden": true
    }
   },
   "source": [
    "● 5 out of 12 who tracked health and sleep as well fall in the fairly active category followed by 3 sedentary users.\n",
    "\n",
    "● very active and fairly active users had the lowest average heart rate with 66.84 and 72.16 respectively."
   ]
  },
  {
   "attachments": {},
   "cell_type": "markdown",
   "id": "e0a29afa",
   "metadata": {
    "jupyter": {
     "source_hidden": true
    }
   },
   "source": [
    "![image.png](https://drive.google.com/uc?id=1gufSLe4YITFca_lnbPT8zJ_RJaGRCmZT)\n"
   ]
  },
  {
   "cell_type": "markdown",
   "id": "ce5e48a6",
   "metadata": {},
   "source": [
    "● Categories with higher heart rate averages had higher hours slept average"
   ]
  },
  {
   "attachments": {},
   "cell_type": "markdown",
   "id": "446e85b9",
   "metadata": {
    "jupyter": {
     "source_hidden": true
    }
   },
   "source": [
    "![image.png](https://drive.google.com/uc?id=1j-jHgDDp9v6m17TmMdD4LafoC8zSiKUa)"
   ]
  },
  {
   "cell_type": "markdown",
   "id": "58fbbc9a",
   "metadata": {},
   "source": [
    "● Looking at the relationship between heartrate,phyisical activity and sleep we can say that there is a negative weak correlation."
   ]
  },
  {
   "attachments": {},
   "cell_type": "markdown",
   "id": "769528ba",
   "metadata": {
    "jupyter": {
     "source_hidden": true
    }
   },
   "source": [
    "![image.png](https://drive.google.com/uc?id=1du4i79CY_QJ_4yfCNVZS6r1nFpHeKOUt)"
   ]
  },
  {
   "cell_type": "markdown",
   "id": "33d07f5b",
   "metadata": {},
   "source": [
    "● The correlation between avg heart rate and total intensity is postively weak. We notice that sedentary and lightly active users are closer to the trend than fairly active that has a high error value"
   ]
  },
  {
   "cell_type": "markdown",
   "id": "dba3c0e5",
   "metadata": {
    "jupyter": {
     "source_hidden": true
    }
   },
   "source": [
    "# Share phase - 4\n",
    "### Recomendations : "
   ]
  },
  {
   "cell_type": "markdown",
   "id": "0d1b7394",
   "metadata": {},
   "source": [
    "● Promote Sleep-Heart Rate Relationship Awareness:\n",
    "\n",
    "Educate users on the correlation between heart rate, physical activity, and sleep. Create content and resources that explain how heart rate fluctuations may impact sleep quality and provide tips for improving sleep patterns.\n",
    "\n",
    "● Targeted Engagement for Fairly Active Users:\n",
    "\n",
    "Since fairly active users had a significant presence among those who tracked both health and sleep, focus on creating content and campaigns that cater to their specific needs. Emphasize the importance of maintaining a balanced heart rate for better sleep quality.\n",
    "\n",
    "● Highlight Benefits for Sedentary Users:\n",
    "\n",
    "Given that sedentary users are also among those who tracked health and sleep, develop content and campaigns targeting this group. Showcase how increasing physical activity can positively impact both heart rate and sleep quality.\n",
    "\n",
    "● Encourage Heart Rate Tracking:\n",
    "\n",
    "Run campaigns to encourage more users to enable heart rate tracking alongside sleep monitoring. Stress the importance of this combination for a comprehensive understanding of one's health and wellness.\n",
    "\n",
    "● Personalized Health and Sleep Plans:\n",
    "\n",
    "Utilize the heart rate data to provide personalized health and sleep improvement plans for users. These plans could offer specific recommendations on how to achieve better sleep and maintain an optimal heart rate.\n",
    "User Education on Heart Rate Zones:\n",
    "Provide information about heart rate zones and how they relate to sleep quality. Help users understand the significance of different heart rate ranges and how to manage them for better rest.\n",
    "\n",
    "● In-App Heart Rate-Sleep Analytics:\n",
    "\n",
    "Develop in-app features that allow users to analyze their heart rate data in relation to their sleep patterns. This can provide users with insights into how their activities affect their heart rate and, subsequently, their sleep quality.\n",
    "\n",
    "● Challenges and Rewards:\n",
    "\n",
    "Create challenges or reward programs that motivate users to maintain lower and healthier heart rates, especially for very active and fairly active users who had the lowest average heart rates. Offer incentives for reaching heart rate and sleep-related goals."
   ]
  },
  {
   "attachments": {},
   "cell_type": "markdown",
   "id": "ec3258b5",
   "metadata": {
    "jupyter": {
     "source_hidden": true
    }
   },
   "source": [
    "# Hypothesis result :\n",
    "![image.png](https://drive.google.com/uc?id=1AoFAa2XUwS1aKrLmYCB9-TEqwapJk_HO)\n"
   ]
  },
  {
   "cell_type": "markdown",
   "id": "09a1e6a6",
   "metadata": {},
   "source": [
    "\n",
    "● As per my hypothesis, we can deduct that indeed users intensity averagtes increases as they enable more features. We can also conduct an ANOVA Test but there's no need since it can be clearly observed based on this analysis"
   ]
  }
 ],
 "metadata": {
  "kernelspec": {
   "display_name": "Python 3 (ipykernel)",
   "language": "python",
   "name": "python3"
  },
  "language_info": {
   "codemirror_mode": {
    "name": "ipython",
    "version": 3
   },
   "file_extension": ".py",
   "mimetype": "text/x-python",
   "name": "python",
   "nbconvert_exporter": "python",
   "pygments_lexer": "ipython3",
   "version": "3.10.9"
  }
 },
 "nbformat": 4,
 "nbformat_minor": 5
}
